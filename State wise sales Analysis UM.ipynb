{
 "cells": [
  {
   "cell_type": "code",
   "execution_count": 14,
   "id": "29772c01-92cc-4f66-b359-f7e7fdcb8063",
   "metadata": {},
   "outputs": [],
   "source": [
    "import pandas as pd \n",
    "import numpy as np \n",
    "import matplotlib.pyplot as plt\n",
    "import seaborn as sns"
   ]
  },
  {
   "cell_type": "code",
   "execution_count": 16,
   "id": "5d1a6322-f8e1-4ac6-8f2a-c56e96a7dfe4",
   "metadata": {},
   "outputs": [],
   "source": [
    "df=pd.read_csv('Electric Vehicle Sales by State in India.csv')"
   ]
  },
  {
   "cell_type": "code",
   "execution_count": 18,
   "id": "237056d1-cc75-4c65-b505-b858d6314529",
   "metadata": {},
   "outputs": [
    {
     "data": {
      "text/html": [
       "<div>\n",
       "<style scoped>\n",
       "    .dataframe tbody tr th:only-of-type {\n",
       "        vertical-align: middle;\n",
       "    }\n",
       "\n",
       "    .dataframe tbody tr th {\n",
       "        vertical-align: top;\n",
       "    }\n",
       "\n",
       "    .dataframe thead th {\n",
       "        text-align: right;\n",
       "    }\n",
       "</style>\n",
       "<table border=\"1\" class=\"dataframe\">\n",
       "  <thead>\n",
       "    <tr style=\"text-align: right;\">\n",
       "      <th></th>\n",
       "      <th>Year</th>\n",
       "      <th>Month_Name</th>\n",
       "      <th>Date</th>\n",
       "      <th>State</th>\n",
       "      <th>Vehicle_Class</th>\n",
       "      <th>Vehicle_Category</th>\n",
       "      <th>Vehicle_Type</th>\n",
       "      <th>EV_Sales_Quantity</th>\n",
       "    </tr>\n",
       "  </thead>\n",
       "  <tbody>\n",
       "    <tr>\n",
       "      <th>0</th>\n",
       "      <td>2014.0</td>\n",
       "      <td>jan</td>\n",
       "      <td>1/1/2014</td>\n",
       "      <td>Andhra Pradesh</td>\n",
       "      <td>ADAPTED VEHICLE</td>\n",
       "      <td>Others</td>\n",
       "      <td>Others</td>\n",
       "      <td>0.0</td>\n",
       "    </tr>\n",
       "    <tr>\n",
       "      <th>1</th>\n",
       "      <td>2014.0</td>\n",
       "      <td>jan</td>\n",
       "      <td>1/1/2014</td>\n",
       "      <td>Andhra Pradesh</td>\n",
       "      <td>AGRICULTURAL TRACTOR</td>\n",
       "      <td>Others</td>\n",
       "      <td>Others</td>\n",
       "      <td>0.0</td>\n",
       "    </tr>\n",
       "    <tr>\n",
       "      <th>2</th>\n",
       "      <td>2014.0</td>\n",
       "      <td>jan</td>\n",
       "      <td>1/1/2014</td>\n",
       "      <td>Andhra Pradesh</td>\n",
       "      <td>AMBULANCE</td>\n",
       "      <td>Others</td>\n",
       "      <td>Others</td>\n",
       "      <td>0.0</td>\n",
       "    </tr>\n",
       "    <tr>\n",
       "      <th>3</th>\n",
       "      <td>2014.0</td>\n",
       "      <td>jan</td>\n",
       "      <td>1/1/2014</td>\n",
       "      <td>Andhra Pradesh</td>\n",
       "      <td>ARTICULATED VEHICLE</td>\n",
       "      <td>Others</td>\n",
       "      <td>Others</td>\n",
       "      <td>0.0</td>\n",
       "    </tr>\n",
       "    <tr>\n",
       "      <th>4</th>\n",
       "      <td>2014.0</td>\n",
       "      <td>jan</td>\n",
       "      <td>1/1/2014</td>\n",
       "      <td>Andhra Pradesh</td>\n",
       "      <td>BUS</td>\n",
       "      <td>Bus</td>\n",
       "      <td>Bus</td>\n",
       "      <td>0.0</td>\n",
       "    </tr>\n",
       "  </tbody>\n",
       "</table>\n",
       "</div>"
      ],
      "text/plain": [
       "     Year Month_Name      Date           State         Vehicle_Class  \\\n",
       "0  2014.0        jan  1/1/2014  Andhra Pradesh       ADAPTED VEHICLE   \n",
       "1  2014.0        jan  1/1/2014  Andhra Pradesh  AGRICULTURAL TRACTOR   \n",
       "2  2014.0        jan  1/1/2014  Andhra Pradesh             AMBULANCE   \n",
       "3  2014.0        jan  1/1/2014  Andhra Pradesh   ARTICULATED VEHICLE   \n",
       "4  2014.0        jan  1/1/2014  Andhra Pradesh                   BUS   \n",
       "\n",
       "  Vehicle_Category Vehicle_Type  EV_Sales_Quantity  \n",
       "0           Others       Others                0.0  \n",
       "1           Others       Others                0.0  \n",
       "2           Others       Others                0.0  \n",
       "3           Others       Others                0.0  \n",
       "4              Bus          Bus                0.0  "
      ]
     },
     "execution_count": 18,
     "metadata": {},
     "output_type": "execute_result"
    }
   ],
   "source": [
    "df.head()"
   ]
  },
  {
   "cell_type": "code",
   "execution_count": 22,
   "id": "46999fed-48c9-4490-903b-b29ebf510e6d",
   "metadata": {},
   "outputs": [
    {
     "data": {
      "text/html": [
       "<div>\n",
       "<style scoped>\n",
       "    .dataframe tbody tr th:only-of-type {\n",
       "        vertical-align: middle;\n",
       "    }\n",
       "\n",
       "    .dataframe tbody tr th {\n",
       "        vertical-align: top;\n",
       "    }\n",
       "\n",
       "    .dataframe thead th {\n",
       "        text-align: right;\n",
       "    }\n",
       "</style>\n",
       "<table border=\"1\" class=\"dataframe\">\n",
       "  <thead>\n",
       "    <tr style=\"text-align: right;\">\n",
       "      <th></th>\n",
       "      <th>Year</th>\n",
       "      <th>EV_Sales_Quantity</th>\n",
       "    </tr>\n",
       "  </thead>\n",
       "  <tbody>\n",
       "    <tr>\n",
       "      <th>count</th>\n",
       "      <td>96845.000000</td>\n",
       "      <td>96845.000000</td>\n",
       "    </tr>\n",
       "    <tr>\n",
       "      <th>mean</th>\n",
       "      <td>2018.622768</td>\n",
       "      <td>37.108896</td>\n",
       "    </tr>\n",
       "    <tr>\n",
       "      <th>std</th>\n",
       "      <td>2.895581</td>\n",
       "      <td>431.566675</td>\n",
       "    </tr>\n",
       "    <tr>\n",
       "      <th>min</th>\n",
       "      <td>2014.000000</td>\n",
       "      <td>0.000000</td>\n",
       "    </tr>\n",
       "    <tr>\n",
       "      <th>25%</th>\n",
       "      <td>2016.000000</td>\n",
       "      <td>0.000000</td>\n",
       "    </tr>\n",
       "    <tr>\n",
       "      <th>50%</th>\n",
       "      <td>2019.000000</td>\n",
       "      <td>0.000000</td>\n",
       "    </tr>\n",
       "    <tr>\n",
       "      <th>75%</th>\n",
       "      <td>2021.000000</td>\n",
       "      <td>0.000000</td>\n",
       "    </tr>\n",
       "    <tr>\n",
       "      <th>max</th>\n",
       "      <td>2024.000000</td>\n",
       "      <td>20584.000000</td>\n",
       "    </tr>\n",
       "  </tbody>\n",
       "</table>\n",
       "</div>"
      ],
      "text/plain": [
       "               Year  EV_Sales_Quantity\n",
       "count  96845.000000       96845.000000\n",
       "mean    2018.622768          37.108896\n",
       "std        2.895581         431.566675\n",
       "min     2014.000000           0.000000\n",
       "25%     2016.000000           0.000000\n",
       "50%     2019.000000           0.000000\n",
       "75%     2021.000000           0.000000\n",
       "max     2024.000000       20584.000000"
      ]
     },
     "execution_count": 22,
     "metadata": {},
     "output_type": "execute_result"
    }
   ],
   "source": [
    "df.describe()"
   ]
  },
  {
   "cell_type": "code",
   "execution_count": 26,
   "id": "041e5635-7e6d-4442-afcd-5ef952321cb9",
   "metadata": {},
   "outputs": [
    {
     "name": "stdout",
     "output_type": "stream",
     "text": [
      "<class 'pandas.core.frame.DataFrame'>\n",
      "RangeIndex: 96845 entries, 0 to 96844\n",
      "Data columns (total 8 columns):\n",
      " #   Column             Non-Null Count  Dtype  \n",
      "---  ------             --------------  -----  \n",
      " 0   Year               96845 non-null  float64\n",
      " 1   Month_Name         96845 non-null  object \n",
      " 2   Date               96845 non-null  object \n",
      " 3   State              96845 non-null  object \n",
      " 4   Vehicle_Class      96845 non-null  object \n",
      " 5   Vehicle_Category   96845 non-null  object \n",
      " 6   Vehicle_Type       96845 non-null  object \n",
      " 7   EV_Sales_Quantity  96845 non-null  float64\n",
      "dtypes: float64(2), object(6)\n",
      "memory usage: 5.9+ MB\n"
     ]
    }
   ],
   "source": [
    "df.info()"
   ]
  },
  {
   "cell_type": "code",
   "execution_count": 28,
   "id": "8e065b02-f422-4c3f-9bfa-064deff0e2a1",
   "metadata": {},
   "outputs": [
    {
     "name": "stdout",
     "output_type": "stream",
     "text": [
      "Year                 0\n",
      "Month_Name           0\n",
      "Date                 0\n",
      "State                0\n",
      "Vehicle_Class        0\n",
      "Vehicle_Category     0\n",
      "Vehicle_Type         0\n",
      "EV_Sales_Quantity    0\n",
      "dtype: int64\n"
     ]
    }
   ],
   "source": [
    "print(df.isnull().sum())"
   ]
  },
  {
   "cell_type": "markdown",
   "id": "dd02366d-b458-4608-beef-fafaa149d2ab",
   "metadata": {},
   "source": [
    "Change the Data Type of \"Date\""
   ]
  },
  {
   "cell_type": "code",
   "execution_count": 30,
   "id": "924319e2-c5e3-43d4-8478-27ccfadc8a93",
   "metadata": {},
   "outputs": [],
   "source": [
    "df['Date']=pd.to_datetime(df['Date'])"
   ]
  },
  {
   "cell_type": "code",
   "execution_count": 34,
   "id": "0591c63a-234c-4c82-bfdb-9a944d3fc656",
   "metadata": {},
   "outputs": [
    {
     "name": "stdout",
     "output_type": "stream",
     "text": [
      "<class 'pandas.core.frame.DataFrame'>\n",
      "RangeIndex: 96845 entries, 0 to 96844\n",
      "Data columns (total 8 columns):\n",
      " #   Column             Non-Null Count  Dtype         \n",
      "---  ------             --------------  -----         \n",
      " 0   Year               96845 non-null  float64       \n",
      " 1   Month_Name         96845 non-null  object        \n",
      " 2   Date               96845 non-null  datetime64[ns]\n",
      " 3   State              96845 non-null  object        \n",
      " 4   Vehicle_Class      96845 non-null  object        \n",
      " 5   Vehicle_Category   96845 non-null  object        \n",
      " 6   Vehicle_Type       96845 non-null  object        \n",
      " 7   EV_Sales_Quantity  96845 non-null  float64       \n",
      "dtypes: datetime64[ns](1), float64(2), object(5)\n",
      "memory usage: 5.9+ MB\n"
     ]
    }
   ],
   "source": [
    "df.info()"
   ]
  },
  {
   "cell_type": "markdown",
   "id": "4d7e22b9-f413-424b-8c6a-1da764880d08",
   "metadata": {},
   "source": [
    "Exploratory Data Analysis"
   ]
  },
  {
   "cell_type": "code",
   "execution_count": 40,
   "id": "024f9fad-d16e-4c01-a535-6b8171e021a2",
   "metadata": {},
   "outputs": [
    {
     "data": {
      "text/plain": [
       "Year\n",
       "2019.0    10315\n",
       "2023.0    10279\n",
       "2018.0    10225\n",
       "2022.0    10021\n",
       "2017.0     9799\n",
       "2016.0     9348\n",
       "2021.0     9249\n",
       "2015.0     9052\n",
       "2014.0     9022\n",
       "2020.0     8675\n",
       "2024.0      860\n",
       "Name: count, dtype: int64"
      ]
     },
     "execution_count": 40,
     "metadata": {},
     "output_type": "execute_result"
    }
   ],
   "source": [
    "df.Year.value_counts()"
   ]
  },
  {
   "cell_type": "code",
   "execution_count": 42,
   "id": "cc51cad8-2e40-4f23-b0cf-36fc1d21e7e4",
   "metadata": {},
   "outputs": [
    {
     "data": {
      "text/plain": [
       "State\n",
       "Maharashtra                 4912\n",
       "Karnataka                   4830\n",
       "Uttar Pradesh               4557\n",
       "Rajasthan                   4552\n",
       "Gujarat                     4517\n",
       "West Bengal                 4196\n",
       "Tamil Nadu                  4063\n",
       "Odisha                      4027\n",
       "Haryana                     3842\n",
       "Kerala                      3666\n",
       "Chhattisgarh                3590\n",
       "Madhya Pradesh              3587\n",
       "Andhra Pradesh              3457\n",
       "Assam                       3114\n",
       "Uttarakhand                 3045\n",
       "Himachal Pradesh            2980\n",
       "Punjab                      2950\n",
       "Jharkhand                   2773\n",
       "Bihar                       2544\n",
       "Jammu and Kashmir           2292\n",
       "Arunachal Pradesh           2285\n",
       "Goa                         2139\n",
       "DNH and DD                  1927\n",
       "Delhi                       1871\n",
       "Meghalaya                   1867\n",
       "Puducherry                  1832\n",
       "Manipur                     1632\n",
       "Nagaland                    1588\n",
       "Tripura                     1564\n",
       "Mizoram                     1557\n",
       "Chandigarh                  1554\n",
       "Sikkim                      1246\n",
       "Andaman & Nicobar Island    1226\n",
       "Ladakh                      1063\n",
       "Name: count, dtype: int64"
      ]
     },
     "execution_count": 42,
     "metadata": {},
     "output_type": "execute_result"
    }
   ],
   "source": [
    "df.State.value_counts()"
   ]
  },
  {
   "cell_type": "code",
   "execution_count": 44,
   "id": "f3984158-48ce-4d38-8ede-8f2920cb56ef",
   "metadata": {},
   "outputs": [
    {
     "data": {
      "text/plain": [
       "Vehicle_Class\n",
       "MOTOR CAR                           4111\n",
       "M-CYCLE/SCOOTER                     4101\n",
       "GOODS CARRIER                       4096\n",
       "MOTOR CAB                           3985\n",
       "BUS                                 3813\n",
       "                                    ... \n",
       "SEMI-TRAILER (COMMERCIAL)             18\n",
       "X-RAY VAN                             12\n",
       "MOTOR CYCLE/SCOOTER-WITH TRAILER       9\n",
       "MODULAR HYDRAULIC TRAILER              3\n",
       "MOTOR CARAVAN                          3\n",
       "Name: count, Length: 73, dtype: int64"
      ]
     },
     "execution_count": 44,
     "metadata": {},
     "output_type": "execute_result"
    }
   ],
   "source": [
    "df.Vehicle_Class.value_counts()"
   ]
  },
  {
   "cell_type": "code",
   "execution_count": 46,
   "id": "d0460e33-2774-4a58-a0c1-b640d8c398a6",
   "metadata": {},
   "outputs": [
    {
     "data": {
      "text/plain": [
       "Vehicle_Category\n",
       "Others        54423\n",
       "2-Wheelers    13121\n",
       "3-Wheelers    11491\n",
       "Bus            9119\n",
       "4-Wheelers     8691\n",
       "Name: count, dtype: int64"
      ]
     },
     "execution_count": 46,
     "metadata": {},
     "output_type": "execute_result"
    }
   ],
   "source": [
    "df.Vehicle_Category.value_counts()"
   ]
  },
  {
   "cell_type": "code",
   "execution_count": 48,
   "id": "97414d70-1ba9-4bf0-bdbb-b90fdc483578",
   "metadata": {},
   "outputs": [
    {
     "data": {
      "text/plain": [
       "Vehicle_Type\n",
       "Others                54423\n",
       "2W_Personal           11700\n",
       "Bus                    7026\n",
       "4W_Shared              4580\n",
       "4W_Personal            4111\n",
       "3W_Shared              3786\n",
       "3W_Goods               3208\n",
       "Institution Bus        2093\n",
       "3W_Shared_LowSpeed     1951\n",
       "3W_Goods_LowSpeed      1517\n",
       "2W_Shared              1421\n",
       "3W_Personal            1029\n",
       "Name: count, dtype: int64"
      ]
     },
     "execution_count": 48,
     "metadata": {},
     "output_type": "execute_result"
    }
   ],
   "source": [
    "df.Vehicle_Type.value_counts()"
   ]
  }
 ],
 "metadata": {
  "kernelspec": {
   "display_name": "Python [conda env:base] *",
   "language": "python",
   "name": "conda-base-py"
  },
  "language_info": {
   "codemirror_mode": {
    "name": "ipython",
    "version": 3
   },
   "file_extension": ".py",
   "mimetype": "text/x-python",
   "name": "python",
   "nbconvert_exporter": "python",
   "pygments_lexer": "ipython3",
   "version": "3.12.7"
  }
 },
 "nbformat": 4,
 "nbformat_minor": 5
}
